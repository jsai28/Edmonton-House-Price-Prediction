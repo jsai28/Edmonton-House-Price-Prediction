{
 "cells": [
  {
   "cell_type": "markdown",
   "id": "7f9e4480",
   "metadata": {},
   "source": [
    "## Load Data"
   ]
  },
  {
   "cell_type": "code",
   "execution_count": 224,
   "id": "bf75001b",
   "metadata": {},
   "outputs": [],
   "source": [
    "# import libraries\n",
    "import pandas as pd\n",
    "import numpy as np\n",
    "import matplotlib.pyplot as plt\n",
    "import seaborn as sns\n",
    "import scipy\n",
    "from scipy.stats import norm\n",
    "import math\n",
    "\n",
    "# model stuff\n",
    "from sklearn import linear_model\n",
    "from sklearn.model_selection import train_test_split\n",
    "from sklearn.metrics import mean_squared_error,r2_score,mean_absolute_percentage_error\n",
    "from sklearn.linear_model import LinearRegression\n",
    "from sklearn.ensemble import RandomForestRegressor\n",
    "from sklearn.preprocessing import LabelEncoder\n",
    "from xgboost import XGBRegressor"
   ]
  },
  {
   "cell_type": "code",
   "execution_count": 225,
   "id": "0041711d",
   "metadata": {},
   "outputs": [],
   "source": [
    "# import housing data\n",
    "raw_train = pd.read_csv('../Data/EdmontonRealEstateData_train.csv')\n",
    "raw_test = pd.read_csv('../Data/EdmontonRealEstateData_test.csv')"
   ]
  },
  {
   "cell_type": "markdown",
   "id": "8de562f3",
   "metadata": {},
   "source": [
    "## Exploratory Data Analysis"
   ]
  },
  {
   "cell_type": "code",
   "execution_count": 226,
   "id": "6f0df170",
   "metadata": {},
   "outputs": [
    {
     "name": "stdout",
     "output_type": "stream",
     "text": [
      "<class 'pandas.core.frame.DataFrame'>\n",
      "RangeIndex: 42779 entries, 0 to 42778\n",
      "Data columns (total 33 columns):\n",
      " #   Column                      Non-Null Count  Dtype  \n",
      "---  ------                      --------------  -----  \n",
      " 0   Unnamed: 0                  42779 non-null  int64  \n",
      " 1   taxroll_number              42779 non-null  int64  \n",
      " 2   landuse_description         42779 non-null  object \n",
      " 3   market_building_class       40471 non-null  object \n",
      " 4   effective_build_year        40455 non-null  float64\n",
      " 5   net_area                    42779 non-null  float64\n",
      " 6   basement_finished           42779 non-null  object \n",
      " 7   has_garage                  42779 non-null  object \n",
      " 8   has_fireplace               42779 non-null  object \n",
      " 9   assessed_value              42779 non-null  int64  \n",
      " 10  house_suit                  0 non-null      float64\n",
      " 11  house_number                42779 non-null  int64  \n",
      " 12  house_suff                  18 non-null     object \n",
      " 13  street_name                 42779 non-null  object \n",
      " 14  postal_code                 40287 non-null  object \n",
      " 15  city                        42779 non-null  object \n",
      " 16  full_address                42779 non-null  object \n",
      " 17  neighbourhood               42779 non-null  object \n",
      " 18  fully_taxable               42779 non-null  object \n",
      " 19  fully_complete              40475 non-null  object \n",
      " 20  lot_size                    42779 non-null  object \n",
      " 21  building_count              42779 non-null  int64  \n",
      " 22  build_year_mbc              40471 non-null  object \n",
      " 23  walkout_basement            42779 non-null  object \n",
      " 24  air_conditioning            42779 non-null  object \n",
      " 25  valuation_group             42779 non-null  object \n",
      " 26  display_type                42779 non-null  object \n",
      " 27  site_coverage               40456 non-null  object \n",
      " 28  tot_gross_area_description  42779 non-null  object \n",
      " 29  geometry                    42779 non-null  object \n",
      " 30  result_code                 42779 non-null  int64  \n",
      " 31  lon                         42779 non-null  float64\n",
      " 32  lat                         42779 non-null  float64\n",
      "dtypes: float64(5), int64(6), object(22)\n",
      "memory usage: 10.8+ MB\n"
     ]
    }
   ],
   "source": [
    "raw_train.info()"
   ]
  },
  {
   "cell_type": "code",
   "execution_count": 227,
   "id": "54d450f5",
   "metadata": {},
   "outputs": [
    {
     "data": {
      "text/plain": [
       "house_suit                    42779\n",
       "house_suff                    42761\n",
       "postal_code                    2492\n",
       "effective_build_year           2324\n",
       "site_coverage                  2323\n",
       "market_building_class          2308\n",
       "build_year_mbc                 2308\n",
       "fully_complete                 2304\n",
       "Unnamed: 0                        0\n",
       "building_count                    0\n",
       "walkout_basement                  0\n",
       "air_conditioning                  0\n",
       "display_type                      0\n",
       "valuation_group                   0\n",
       "tot_gross_area_description        0\n",
       "geometry                          0\n",
       "result_code                       0\n",
       "lon                               0\n",
       "lot_size                          0\n",
       "full_address                      0\n",
       "fully_taxable                     0\n",
       "neighbourhood                     0\n",
       "taxroll_number                    0\n",
       "city                              0\n",
       "street_name                       0\n",
       "house_number                      0\n",
       "assessed_value                    0\n",
       "has_fireplace                     0\n",
       "has_garage                        0\n",
       "basement_finished                 0\n",
       "net_area                          0\n",
       "landuse_description               0\n",
       "lat                               0\n",
       "dtype: int64"
      ]
     },
     "execution_count": 227,
     "metadata": {},
     "output_type": "execute_result"
    }
   ],
   "source": [
    "raw_train.isna().sum().sort_values(ascending=False)"
   ]
  },
  {
   "cell_type": "code",
   "execution_count": 228,
   "id": "60706aaf",
   "metadata": {},
   "outputs": [
    {
     "data": {
      "text/plain": [
       "<AxesSubplot:>"
      ]
     },
     "execution_count": 228,
     "metadata": {},
     "output_type": "execute_result"
    },
    {
     "data": {
      "image/png": "[encoded data removed]",
      "text/plain": [
       "<Figure size 1200x900 with 2 Axes>"
      ]
     },
     "metadata": {},
     "output_type": "display_data"
    }
   ],
   "source": [
    "# correlation matrix\n",
    "corrmat = raw_train.corr()\n",
    "f, ax = plt.subplots(figsize=(12,9))\n",
    "sns.heatmap(corrmat,annot=True, vmax=0.8, square=True)"
   ]
  },
  {
   "cell_type": "code",
   "execution_count": null,
   "id": "2dafedea",
   "metadata": {},
   "outputs": [],
   "source": []
  },
  {
   "cell_type": "markdown",
   "id": "8ccda06a",
   "metadata": {},
   "source": [
    "## Data Cleaning & Preprocessing"
   ]
  },
  {
   "cell_type": "code",
   "execution_count": 229,
   "id": "7916f57d",
   "metadata": {},
   "outputs": [],
   "source": [
    "# drop columns with uninteresting parameters\n",
    "train = raw_train.drop(['house_suit','house_number','house_suff','street_name', 'city', 'full_address', 'fully_taxable',\\\n",
    "                      'display_type', 'geometry', 'result_code', 'build_year_mbc','landuse_description', 'postal_code', 'effective_build_year', 'market_building_class'], axis=1)\n",
    "\n",
    "test = raw_test.drop(['house_suit','house_number','house_suff','street_name', 'city', 'full_address', 'fully_taxable',\\\n",
    "                      'display_type', 'geometry', 'result_code', 'build_year_mbc','landuse_description','postal_code', 'effective_build_year', 'market_building_class'], axis=1)\n",
    "\n",
    "# get rid of unnamed column\n",
    "train = train.iloc[:,1:]\n",
    "\n",
    "test = test.iloc[:,1:]"
   ]
  },
  {
   "cell_type": "code",
   "execution_count": 230,
   "id": "b3f8189c",
   "metadata": {},
   "outputs": [
    {
     "data": {
      "text/plain": [
       "site_coverage                 2323\n",
       "fully_complete                2304\n",
       "taxroll_number                   0\n",
       "building_count                   0\n",
       "lon                              0\n",
       "tot_gross_area_description       0\n",
       "valuation_group                  0\n",
       "air_conditioning                 0\n",
       "walkout_basement                 0\n",
       "lot_size                         0\n",
       "net_area                         0\n",
       "neighbourhood                    0\n",
       "assessed_value                   0\n",
       "has_fireplace                    0\n",
       "has_garage                       0\n",
       "basement_finished                0\n",
       "lat                              0\n",
       "dtype: int64"
      ]
     },
     "execution_count": 230,
     "metadata": {},
     "output_type": "execute_result"
    }
   ],
   "source": [
    "train.isna().sum().sort_values(ascending=False)"
   ]
  },
  {
   "cell_type": "code",
   "execution_count": 231,
   "id": "4a2b18af",
   "metadata": {},
   "outputs": [
    {
     "data": {
      "text/plain": [
       "site_coverage                 629\n",
       "fully_complete                624\n",
       "taxroll_number                  0\n",
       "building_count                  0\n",
       "lon                             0\n",
       "tot_gross_area_description      0\n",
       "valuation_group                 0\n",
       "air_conditioning                0\n",
       "walkout_basement                0\n",
       "lot_size                        0\n",
       "net_area                        0\n",
       "neighbourhood                   0\n",
       "assessed_value                  0\n",
       "has_fireplace                   0\n",
       "has_garage                      0\n",
       "basement_finished               0\n",
       "lat                             0\n",
       "dtype: int64"
      ]
     },
     "execution_count": 231,
     "metadata": {},
     "output_type": "execute_result"
    }
   ],
   "source": [
    "test.isna().sum().sort_values(ascending=False)"
   ]
  },
  {
   "cell_type": "code",
   "execution_count": 232,
   "id": "3307fa38",
   "metadata": {},
   "outputs": [],
   "source": [
    "# fully_complete data is blank for undeveloped residential land, impute blank values as None\n",
    "train['fully_complete'] = train['fully_complete'].fillna(\"NO\")\n",
    "test['fully_complete'] = test['fully_complete'].fillna(\"NO\")\n",
    "\n",
    "# incomplete site_coverage data is mainly undeveloped residential land, impute blank values with 0\n",
    "train['site_coverage'] = train['site_coverage'].fillna(\"0%\")\n",
    "test['site_coverage'] = test['site_coverage'].fillna(\"0%\")\n",
    "\n",
    "train['site_coverage'] = train['site_coverage'].str.rstrip('%').astype('float') / 100.0\n",
    "test['site_coverage'] = test['site_coverage'].str.rstrip('%').astype('float') / 100.0\n",
    "\n",
    "# incomplete market_building_class is mainly undeveloped residential land, imput blank values with 'NO MARKET BUILDING CLASS'\n",
    "#train['market_building_class'] = train['market_building_class'].fillna(\"NO MARKET BUILDING CLASS\")\n",
    "#test['market_building_class'] = test['market_building_class'].fillna(\"NO MARKET BUILDING CLASS\")"
   ]
  },
  {
   "cell_type": "code",
   "execution_count": 233,
   "id": "62968af7",
   "metadata": {},
   "outputs": [
    {
     "data": {
      "text/plain": [
       "taxroll_number                0\n",
       "building_count                0\n",
       "lon                           0\n",
       "tot_gross_area_description    0\n",
       "site_coverage                 0\n",
       "valuation_group               0\n",
       "air_conditioning              0\n",
       "walkout_basement              0\n",
       "lot_size                      0\n",
       "net_area                      0\n",
       "fully_complete                0\n",
       "neighbourhood                 0\n",
       "assessed_value                0\n",
       "has_fireplace                 0\n",
       "has_garage                    0\n",
       "basement_finished             0\n",
       "lat                           0\n",
       "dtype: int64"
      ]
     },
     "execution_count": 233,
     "metadata": {},
     "output_type": "execute_result"
    }
   ],
   "source": [
    "test.isna().sum().sort_values(ascending=False)"
   ]
  },
  {
   "cell_type": "code",
   "execution_count": 234,
   "id": "eb5e74da",
   "metadata": {},
   "outputs": [
    {
     "name": "stdout",
     "output_type": "stream",
     "text": [
      "<class 'pandas.core.frame.DataFrame'>\n",
      "RangeIndex: 10695 entries, 0 to 10694\n",
      "Data columns (total 17 columns):\n",
      " #   Column                      Non-Null Count  Dtype  \n",
      "---  ------                      --------------  -----  \n",
      " 0   taxroll_number              10695 non-null  int64  \n",
      " 1   net_area                    10695 non-null  float64\n",
      " 2   basement_finished           10695 non-null  object \n",
      " 3   has_garage                  10695 non-null  object \n",
      " 4   has_fireplace               10695 non-null  object \n",
      " 5   assessed_value              10695 non-null  int64  \n",
      " 6   neighbourhood               10695 non-null  object \n",
      " 7   fully_complete              10695 non-null  object \n",
      " 8   lot_size                    10695 non-null  object \n",
      " 9   building_count              10695 non-null  int64  \n",
      " 10  walkout_basement            10695 non-null  object \n",
      " 11  air_conditioning            10695 non-null  object \n",
      " 12  valuation_group             10695 non-null  object \n",
      " 13  site_coverage               10695 non-null  float64\n",
      " 14  tot_gross_area_description  10695 non-null  object \n",
      " 15  lon                         10695 non-null  float64\n",
      " 16  lat                         10695 non-null  float64\n",
      "dtypes: float64(4), int64(3), object(10)\n",
      "memory usage: 1.4+ MB\n"
     ]
    }
   ],
   "source": [
    "test.info()"
   ]
  },
  {
   "cell_type": "code",
   "execution_count": 235,
   "id": "c966cce2",
   "metadata": {},
   "outputs": [],
   "source": [
    "# just keep m^2 value for tot_gross_area_description\n",
    "train['tot_gross_area_description'] = train['tot_gross_area_description'].astype(str)\n",
    "train['tot_gross_area_description'] = train['tot_gross_area_description'].str.split(' ',1,expand=True)[0]\n",
    "train['tot_gross_area_description'] = train['tot_gross_area_description'].astype('float')\n",
    "\n",
    "# just keep m^2 value for tot_gross_area_description\n",
    "test['tot_gross_area_description'] = test['tot_gross_area_description'].astype(str)\n",
    "test['tot_gross_area_description'] = test['tot_gross_area_description'].str.split(' ',1,expand=True)[0]\n",
    "test['tot_gross_area_description'] = test['tot_gross_area_description'].astype('float')"
   ]
  },
  {
   "cell_type": "code",
   "execution_count": 236,
   "id": "c64eb83a",
   "metadata": {},
   "outputs": [],
   "source": [
    "# just keep m^2 value lot_size\n",
    "train['lot_size'] = train['lot_size'].astype(str)\n",
    "train['lot_size'] = train['lot_size'].str.split(' ',1,expand=True)[0]\n",
    "train['lot_size'] = train['lot_size'].astype('float')\n",
    "\n",
    "test['lot_size'] = test['lot_size'].astype(str)\n",
    "test['lot_size'] = test['lot_size'].str.split(' ',1,expand=True)[0]\n",
    "test['lot_size'] = test['lot_size'].astype('float')"
   ]
  },
  {
   "cell_type": "code",
   "execution_count": 237,
   "id": "1d307d57",
   "metadata": {},
   "outputs": [],
   "source": [
    "# encode some categorical variables\n",
    "train['basement_finished'] = train['basement_finished'].map({'Yes': 1, 'NO': 0})\n",
    "train['has_garage'] = train['has_garage'].map({'Yes': 1, 'NO': 0})\n",
    "train['has_fireplace'] = train['has_fireplace'].map({'Yes': 1, 'NO': 0})\n",
    "train['walkout_basement'] = train['walkout_basement'].map({'Yes': 1, 'NO': 0})\n",
    "train['air_conditioning'] = train['air_conditioning'].map({'Yes': 1, 'NO': 0})\n",
    "train['fully_complete'] = train['fully_complete'].map({'Yes': 1, 'NO': 0})\n",
    "\n",
    "test['basement_finished'] = test['basement_finished'].map({'Yes': 1, 'NO': 0})\n",
    "test['has_garage'] = test['has_garage'].map({'Yes': 1, 'NO': 0})\n",
    "test['has_fireplace'] = test['has_fireplace'].map({'Yes': 1, 'NO': 0})\n",
    "test['walkout_basement'] = test['walkout_basement'].map({'Yes': 1, 'NO': 0})\n",
    "test['air_conditioning'] = test['air_conditioning'].map({'Yes': 1, 'NO': 0})\n",
    "test['fully_complete'] = test['fully_complete'].map({'Yes': 1, 'NO': 0})"
   ]
  },
  {
   "cell_type": "code",
   "execution_count": 238,
   "id": "b6987aa4",
   "metadata": {},
   "outputs": [],
   "source": [
    "# categorize valuation group\n",
    "train['valuation_group'] = train['valuation_group'].map({\n",
    "    'RESIDENTIAL SOUTH': 0,\n",
    "    'RESIDENTIAL NORTH': 1,\n",
    "    'RESIDENTIAL WC': 2,\n",
    "    'RESIDENTIAL RIVVAL': 3,\n",
    "    'RESIDENTIAL LAND': 4,\n",
    "    'SPECIAL PURPOSE': 5,\n",
    "    'LAND': 6\n",
    "})\n",
    "\n",
    "test['valuation_group'] = test['valuation_group'].map({\n",
    "    'RESIDENTIAL SOUTH': 0,\n",
    "    'RESIDENTIAL NORTH': 1,\n",
    "    'RESIDENTIAL WC': 2,\n",
    "    'RESIDENTIAL RIVVAL': 3,\n",
    "    'RESIDENTIAL LAND': 4,\n",
    "    'SPECIAL PURPOSE': 5,\n",
    "    'LAND': 6\n",
    "})\n",
    "\n",
    "labelencoder = LabelEncoder()\n",
    "train['neighbourhood'] = labelencoder.fit_transform(train['neighbourhood'])\n",
    "test['neighbourhood'] = labelencoder.fit_transform(test['neighbourhood'])"
   ]
  },
  {
   "cell_type": "code",
   "execution_count": 239,
   "id": "94986546",
   "metadata": {},
   "outputs": [
    {
     "name": "stdout",
     "output_type": "stream",
     "text": [
      "<class 'pandas.core.frame.DataFrame'>\n",
      "RangeIndex: 10695 entries, 0 to 10694\n",
      "Data columns (total 17 columns):\n",
      " #   Column                      Non-Null Count  Dtype  \n",
      "---  ------                      --------------  -----  \n",
      " 0   taxroll_number              10695 non-null  int64  \n",
      " 1   net_area                    10695 non-null  float64\n",
      " 2   basement_finished           10695 non-null  int64  \n",
      " 3   has_garage                  10695 non-null  int64  \n",
      " 4   has_fireplace               10695 non-null  int64  \n",
      " 5   assessed_value              10695 non-null  int64  \n",
      " 6   neighbourhood               10695 non-null  int32  \n",
      " 7   fully_complete              10695 non-null  int64  \n",
      " 8   lot_size                    10695 non-null  float64\n",
      " 9   building_count              10695 non-null  int64  \n",
      " 10  walkout_basement            10695 non-null  int64  \n",
      " 11  air_conditioning            10695 non-null  int64  \n",
      " 12  valuation_group             10695 non-null  int64  \n",
      " 13  site_coverage               10695 non-null  float64\n",
      " 14  tot_gross_area_description  10695 non-null  float64\n",
      " 15  lon                         10695 non-null  float64\n",
      " 16  lat                         10695 non-null  float64\n",
      "dtypes: float64(6), int32(1), int64(10)\n",
      "memory usage: 1.3 MB\n"
     ]
    }
   ],
   "source": [
    "test.info()"
   ]
  },
  {
   "cell_type": "markdown",
   "id": "85cab2ec",
   "metadata": {},
   "source": [
    "## Model"
   ]
  },
  {
   "cell_type": "code",
   "execution_count": 240,
   "id": "b64d3feb",
   "metadata": {},
   "outputs": [],
   "source": [
    "X_train = train.loc[:,['net_area', 'basement_finished', 'has_garage', 'has_fireplace', 'lot_size', 'building_count', 'walkout_basement', 'air_conditioning', 'valuation_group', 'tot_gross_area_description', 'fully_complete','lon', 'lat']]\n",
    "Y_train = train['assessed_value']\n",
    "\n",
    "X_test = test.loc[:,['net_area', 'basement_finished', 'has_garage', 'has_fireplace', 'lot_size', 'building_count', 'walkout_basement', 'air_conditioning', 'valuation_group', 'tot_gross_area_description', 'fully_complete','lon', 'lat']]\n",
    "Y_test = test['assessed_value']\n",
    "\n",
    "result = pd.DataFrame(columns=('Multi-Linear Regression','Ridge','LASSO','RFR','XGBoost'), index = ['MAPE', 'RSME', 'r2'])"
   ]
  },
  {
   "cell_type": "markdown",
   "id": "fb5e167c",
   "metadata": {},
   "source": [
    "### Multi-Linear Regression"
   ]
  },
  {
   "cell_type": "code",
   "execution_count": 241,
   "id": "bc877f15",
   "metadata": {},
   "outputs": [],
   "source": [
    "lin_fit = LinearRegression().fit(X_train, Y_train)\n",
    "lin_pred = lin_fit.predict(X_test)\n",
    "lin_err = mean_squared_error(Y_test, lin_pred)\n",
    "lin_r2 = r2_score(Y_test, lin_pred)\n",
    "lin_mape = mean_absolute_percentage_error(Y_test, lin_pred)\n",
    "\n",
    "result['Multi-Linear Regression'] = [lin_mape, math.sqrt(lin_err), lin_r2]"
   ]
  },
  {
   "cell_type": "markdown",
   "id": "217c72b5",
   "metadata": {},
   "source": [
    "### Ridge Regression"
   ]
  },
  {
   "cell_type": "code",
   "execution_count": 242,
   "id": "e39827c9",
   "metadata": {},
   "outputs": [],
   "source": [
    "ridge = linear_model.Ridge(alpha=1.0)\n",
    "ridge.fit(X_train, Y_train)\n",
    "ridge_pred = ridge.predict(X_test)\n",
    "ridge_err = mean_squared_error(Y_test, ridge_pred)\n",
    "ridge_r2 = r2_score(Y_test, ridge_pred)\n",
    "ridge_mape = mean_absolute_percentage_error(Y_test, ridge_pred)\n",
    "\n",
    "result['Ridge'] = [ridge_mape, math.sqrt(ridge_err), ridge_r2]"
   ]
  },
  {
   "cell_type": "markdown",
   "id": "1705abb4",
   "metadata": {},
   "source": [
    "### Lasso"
   ]
  },
  {
   "cell_type": "code",
   "execution_count": 243,
   "id": "eed8d4c5",
   "metadata": {},
   "outputs": [],
   "source": [
    "lasso = linear_model.Lasso(alpha=0.1)\n",
    "lasso.fit(X_train, Y_train)\n",
    "lasso_predict = lasso.predict(X_test)\n",
    "lasso_error = mean_squared_error(Y_test, lasso_predict)\n",
    "lasso_r2 = r2_score(Y_test, lasso_predict)\n",
    "lasso_mape = mean_absolute_percentage_error(Y_test, lasso_predict)\n",
    "\n",
    "result['LASSO'] = [lasso_mape, math.sqrt(lasso_error), lasso_r2]"
   ]
  },
  {
   "cell_type": "markdown",
   "id": "590024e8",
   "metadata": {},
   "source": [
    "### Random Forest"
   ]
  },
  {
   "cell_type": "code",
   "execution_count": 244,
   "id": "f9efacb1",
   "metadata": {},
   "outputs": [],
   "source": [
    "RFR = RandomForestRegressor(n_estimators=500)\n",
    "RFR.fit(X_train, Y_train)\n",
    "RFR_pred = RFR.predict(X_test)\n",
    "RFR_err = mean_squared_error(Y_test, RFR_pred)\n",
    "RFR_r2 = r2_score(Y_test, RFR_pred)\n",
    "RFR_mape = mean_absolute_percentage_error(Y_test, RFR_pred)\n",
    "\n",
    "result['RFR'] = [RFR_mape, math.sqrt(RFR_err), RFR_r2]"
   ]
  },
  {
   "cell_type": "markdown",
   "id": "451f95a9",
   "metadata": {},
   "source": [
    "### XGBoost"
   ]
  },
  {
   "cell_type": "code",
   "execution_count": 245,
   "id": "6fbef153",
   "metadata": {},
   "outputs": [],
   "source": [
    "xgb = XGBRegressor(n_estimators=1000, learning_rate=0.05)\n",
    "xgb.fit(X_train, Y_train, verbose=False)\n",
    "xgb_pred = xgb.predict(X_test)\n",
    "xgb_err = mean_squared_error(Y_test, xgb_pred)\n",
    "xgb_r2 = r2_score(Y_test, xgb_pred)\n",
    "xgb_mape = mean_absolute_percentage_error(Y_test, xgb_pred)\n",
    "\n",
    "result['XGBoost'] = [xgb_mape, math.sqrt(xgb_err), xgb_r2]"
   ]
  },
  {
   "cell_type": "code",
   "execution_count": 246,
   "id": "3bf07488",
   "metadata": {},
   "outputs": [
    {
     "data": {
      "text/html": [
       "<div>\n",
       "<style scoped>\n",
       "    .dataframe tbody tr th:only-of-type {\n",
       "        vertical-align: middle;\n",
       "    }\n",
       "\n",
       "    .dataframe tbody tr th {\n",
       "        vertical-align: top;\n",
       "    }\n",
       "\n",
       "    .dataframe thead th {\n",
       "        text-align: right;\n",
       "    }\n",
       "</style>\n",
       "<table border=\"1\" class=\"dataframe\">\n",
       "  <thead>\n",
       "    <tr style=\"text-align: right;\">\n",
       "      <th></th>\n",
       "      <th>Multi-Linear Regression</th>\n",
       "      <th>Ridge</th>\n",
       "      <th>LASSO</th>\n",
       "      <th>RFR</th>\n",
       "      <th>XGBoost</th>\n",
       "    </tr>\n",
       "  </thead>\n",
       "  <tbody>\n",
       "    <tr>\n",
       "      <th>MAPE</th>\n",
       "      <td>0.150843</td>\n",
       "      <td>0.150800</td>\n",
       "      <td>0.150842</td>\n",
       "      <td>0.056848</td>\n",
       "      <td>0.061375</td>\n",
       "    </tr>\n",
       "    <tr>\n",
       "      <th>RSME</th>\n",
       "      <td>161030.061762</td>\n",
       "      <td>161027.957891</td>\n",
       "      <td>161030.052626</td>\n",
       "      <td>111834.016090</td>\n",
       "      <td>120457.888659</td>\n",
       "    </tr>\n",
       "    <tr>\n",
       "      <th>r2</th>\n",
       "      <td>0.685865</td>\n",
       "      <td>0.685873</td>\n",
       "      <td>0.685865</td>\n",
       "      <td>0.848487</td>\n",
       "      <td>0.824218</td>\n",
       "    </tr>\n",
       "  </tbody>\n",
       "</table>\n",
       "</div>"
      ],
      "text/plain": [
       "      Multi-Linear Regression          Ridge          LASSO            RFR  \\\n",
       "MAPE                 0.150843       0.150800       0.150842       0.056848   \n",
       "RSME            161030.061762  161027.957891  161030.052626  111834.016090   \n",
       "r2                   0.685865       0.685873       0.685865       0.848487   \n",
       "\n",
       "            XGBoost  \n",
       "MAPE       0.061375  \n",
       "RSME  120457.888659  \n",
       "r2         0.824218  "
      ]
     },
     "execution_count": 246,
     "metadata": {},
     "output_type": "execute_result"
    }
   ],
   "source": [
    "result"
   ]
  }
 ],
 "metadata": {
  "kernelspec": {
   "display_name": "Python 3 (ipykernel)",
   "language": "python",
   "name": "python3"
  },
  "language_info": {
   "codemirror_mode": {
    "name": "ipython",
    "version": 3
   },
   "file_extension": ".py",
   "mimetype": "text/x-python",
   "name": "python",
   "nbconvert_exporter": "python",
   "pygments_lexer": "ipython3",
   "version": "3.7.6"
  }
 },
 "nbformat": 4,
 "nbformat_minor": 5
}
